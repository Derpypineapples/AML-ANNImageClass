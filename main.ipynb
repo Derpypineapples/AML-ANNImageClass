{
 "cells": [
  {
   "cell_type": "code",
   "execution_count": 92,
   "metadata": {},
   "outputs": [],
   "source": [
    "import numpy as np\n",
    "import matplotlib.pyplot as plt\n",
    "import tensorflow as tf\n",
    "from sklearn.metrics import classification_report, confusion_matrix\n",
    "from tensorflow.keras.layers import Input, Dense, Flatten, Dropout\n",
    "from tensorflow.keras.models import Model"
   ]
  },
  {
   "cell_type": "code",
   "execution_count": 93,
   "metadata": {},
   "outputs": [
    {
     "name": "stdout",
     "output_type": "stream",
     "text": [
      "xtrain shape: (60000, 28, 28)\n",
      "xtest shape: (10000, 28, 28)\n"
     ]
    }
   ],
   "source": [
    "# Load & Split Data\n",
    "\n",
    "mnist = tf.keras.datasets.mnist\n",
    "\n",
    "(xtrain, ytrain), (xtest, ytest) = mnist.load_data()\n",
    "xtrain, xtest = xtrain / 255.0, xtest / 255.0\n",
    "print(\"xtrain shape:\", xtrain.shape)\n",
    "print(\"xtest shape:\", xtest.shape)"
   ]
  },
  {
   "cell_type": "code",
   "execution_count": 94,
   "metadata": {},
   "outputs": [],
   "source": [
    "# Build Model\n",
    "\n",
    "model = tf.keras.models.Sequential([\n",
    "  Flatten(input_shape=(28, 28)),\n",
    "  Dense(224, activation=\"relu\"),\n",
    "  Dropout(0.2),\n",
    "  Dense(28, activation=\"softmax\")                                    \n",
    "])"
   ]
  },
  {
   "cell_type": "code",
   "execution_count": 95,
   "metadata": {},
   "outputs": [],
   "source": [
    "# Compile Model\n",
    "\n",
    "model.compile(optimizer=\"SGD\",\n",
    "              loss=\"sparse_categorical_crossentropy\",\n",
    "              metrics=[\"accuracy\"])"
   ]
  },
  {
   "cell_type": "code",
   "execution_count": 96,
   "metadata": {},
   "outputs": [
    {
     "name": "stdout",
     "output_type": "stream",
     "text": [
      "Epoch 1/10\n",
      "1875/1875 [==============================] - 8s 4ms/step - loss: 0.7073 - accuracy: 0.8125 - val_loss: 0.3555 - val_accuracy: 0.9027\n",
      "Epoch 2/10\n",
      "1875/1875 [==============================] - 7s 4ms/step - loss: 0.3738 - accuracy: 0.8918 - val_loss: 0.2907 - val_accuracy: 0.9192\n",
      "Epoch 3/10\n",
      "1875/1875 [==============================] - 6s 3ms/step - loss: 0.3182 - accuracy: 0.9097 - val_loss: 0.2581 - val_accuracy: 0.9287\n",
      "Epoch 4/10\n",
      "1875/1875 [==============================] - 6s 3ms/step - loss: 0.2805 - accuracy: 0.9202 - val_loss: 0.2301 - val_accuracy: 0.9367\n",
      "Epoch 5/10\n",
      "1875/1875 [==============================] - 7s 4ms/step - loss: 0.2536 - accuracy: 0.9280 - val_loss: 0.2113 - val_accuracy: 0.9416\n",
      "Epoch 6/10\n",
      "1875/1875 [==============================] - 7s 4ms/step - loss: 0.2317 - accuracy: 0.9353 - val_loss: 0.1963 - val_accuracy: 0.9451\n",
      "Epoch 7/10\n",
      "1875/1875 [==============================] - 6s 3ms/step - loss: 0.2149 - accuracy: 0.9393 - val_loss: 0.1818 - val_accuracy: 0.9487\n",
      "Epoch 8/10\n",
      "1875/1875 [==============================] - 7s 4ms/step - loss: 0.1995 - accuracy: 0.9445 - val_loss: 0.1698 - val_accuracy: 0.9528\n",
      "Epoch 9/10\n",
      "1875/1875 [==============================] - 6s 3ms/step - loss: 0.1875 - accuracy: 0.9470 - val_loss: 0.1605 - val_accuracy: 0.9547\n",
      "Epoch 10/10\n",
      "1875/1875 [==============================] - 7s 4ms/step - loss: 0.1761 - accuracy: 0.9503 - val_loss: 0.1511 - val_accuracy: 0.9571\n"
     ]
    }
   ],
   "source": [
    "# Train Model\n",
    "\n",
    "r = model.fit(xtrain, ytrain, validation_data=(xtest, ytest), epochs=10)"
   ]
  },
  {
   "cell_type": "code",
   "execution_count": 97,
   "metadata": {},
   "outputs": [
    {
     "data": {
      "text/plain": [
       "<matplotlib.legend.Legend at 0x268aee163d0>"
      ]
     },
     "execution_count": 97,
     "metadata": {},
     "output_type": "execute_result"
    },
    {
     "data": {
      "image/png": "[encoded data removed]",
      "text/plain": [
       "<Figure size 432x288 with 1 Axes>"
      ]
     },
     "metadata": {
      "needs_background": "light"
     },
     "output_type": "display_data"
    }
   ],
   "source": [
    "# Plot Loss\n",
    "\n",
    "import matplotlib.pyplot as plt\n",
    "plt.plot(r.history[\"loss\"], label=\"loss\")\n",
    "plt.plot(r.history[\"val_loss\"], label=\"val_loss\")\n",
    "plt.legend()"
   ]
  },
  {
   "cell_type": "code",
   "execution_count": 98,
   "metadata": {},
   "outputs": [
    {
     "data": {
      "text/plain": [
       "<matplotlib.legend.Legend at 0x2688066e460>"
      ]
     },
     "execution_count": 98,
     "metadata": {},
     "output_type": "execute_result"
    },
    {
     "data": {
      "image/png": "[encoded data removed]",
      "text/plain": [
       "<Figure size 432x288 with 1 Axes>"
      ]
     },
     "metadata": {
      "needs_background": "light"
     },
     "output_type": "display_data"
    }
   ],
   "source": [
    "# Plot Accuracy\n",
    "\n",
    "plt.plot(r.history[\"accuracy\"], label=\"acc\")\n",
    "plt.plot(r.history[\"val_accuracy\"], label=\"val_acc\")\n",
    "plt.legend()"
   ]
  },
  {
   "cell_type": "code",
   "execution_count": 99,
   "metadata": {},
   "outputs": [
    {
     "name": "stdout",
     "output_type": "stream",
     "text": [
      "313/313 [==============================] - 1s 2ms/step - loss: 0.1511 - accuracy: 0.9571\n",
      "[0.15111714601516724, 0.957099974155426]\n"
     ]
    }
   ],
   "source": [
    "# Evaluate\n",
    "\n",
    "print(model.evaluate(xtest, ytest))"
   ]
  }
 ],
 "metadata": {
  "kernelspec": {
   "display_name": "Python 3",
   "language": "python",
   "name": "python3"
  },
  "language_info": {
   "codemirror_mode": {
    "name": "ipython",
    "version": 3
   },
   "file_extension": ".py",
   "mimetype": "text/x-python",
   "name": "python",
   "nbconvert_exporter": "python",
   "pygments_lexer": "ipython3",
   "version": "3.9.7"
  }
 },
 "nbformat": 4,
 "nbformat_minor": 2
}
